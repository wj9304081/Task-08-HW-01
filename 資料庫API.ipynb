{
  "nbformat": 4,
  "nbformat_minor": 0,
  "metadata": {
    "colab": {
      "provenance": [],
      "authorship_tag": "ABX9TyOVNLNFo0troJ93E3wXN1bO",
      "include_colab_link": true
    },
    "kernelspec": {
      "name": "python3",
      "display_name": "Python 3"
    },
    "language_info": {
      "name": "python"
    }
  },
  "cells": [
    {
      "cell_type": "markdown",
      "metadata": {
        "id": "view-in-github",
        "colab_type": "text"
      },
      "source": [
        "<a href=\"https://colab.research.google.com/github/wj9304081/Task-08-HW-01/blob/main/%E8%B3%87%E6%96%99%E5%BA%ABAPI.ipynb\" target=\"_parent\"><img src=\"https://colab.research.google.com/assets/colab-badge.svg\" alt=\"Open In Colab\"/></a>"
      ]
    },
    {
      "cell_type": "code",
      "execution_count": 20,
      "metadata": {
        "id": "Q2FmxctGwQO5"
      },
      "outputs": [],
      "source": [
        "import sqlite3\n",
        "import datetime\n",
        "\n",
        "conn = sqlite3.connect('example.db')\n",
        "c = conn.cursor()\n"
      ]
    },
    {
      "cell_type": "code",
      "source": [
        "# 新增且清空資料表\n",
        "c.execute('''CREATE TABLE IF NOT EXISTS pharmacies\n",
        "             (city text, counts text, createdAt datetime)''')\n",
        "c.execute('''DELETE FROM pharmacies''')\n",
        "conn.commit()\n"
      ],
      "metadata": {
        "id": "JJTEBrYHweyH"
      },
      "execution_count": 21,
      "outputs": []
    },
    {
      "cell_type": "code",
      "source": [
        "# 新增資料\n",
        "import requests\n",
        "import json\n",
        "\n",
        "# 把收集資料部分放在這邊\n",
        "url = \"https://raw.githubusercontent.com/kiang/pharmacies/master/json/points.json\"\n",
        "response = requests.get(url)\n",
        "d = response.text\n",
        "data = json.loads(d)\n"
      ],
      "metadata": {
        "id": "-_bQ6a-Kwget"
      },
      "execution_count": 22,
      "outputs": []
    },
    {
      "cell_type": "code",
      "source": [
        "med_count = {}\n",
        "\n",
        "# 將每一筆資料分別取出來新增到資料庫\n",
        "for d in data['features']:\n",
        "  county = d['properties']['address'][0:3]\n",
        "\n",
        "  if county not in med_count:\n",
        "      med_count[county] = 0\n",
        "  med_count[county] +=1\n",
        "\n",
        "  counts = med_count[county]\n",
        "\n",
        "for city,counts in med_count.items():\n",
        "\n",
        "  t = datetime.datetime.now()\n",
        "  print(f\"INSERT INTO stocks VALUES ('{city}', {counts}, '{t}')\")\n",
        "  c.execute(f\"INSERT INTO pharmacies VALUES ('{city}', {counts}, '{t}')\")\n",
        "  conn.commit()"
      ],
      "metadata": {
        "colab": {
          "base_uri": "https://localhost:8080/"
        },
        "id": "r8aGT-Ci6qzw",
        "outputId": "b7805477-ea6f-4ee7-91d6-1b439eb2ad33"
      },
      "execution_count": 23,
      "outputs": [
        {
          "output_type": "stream",
          "name": "stdout",
          "text": [
            "INSERT INTO stocks VALUES ('臺北市', 340, '2023-06-12 19:02:18.518293')\n",
            "INSERT INTO stocks VALUES ('高雄市', 424, '2023-06-12 19:02:18.530154')\n",
            "INSERT INTO stocks VALUES ('臺中市', 436, '2023-06-12 19:02:18.539862')\n",
            "INSERT INTO stocks VALUES ('臺南市', 280, '2023-06-12 19:02:18.550190')\n",
            "INSERT INTO stocks VALUES ('基隆市', 57, '2023-06-12 19:02:18.559114')\n",
            "INSERT INTO stocks VALUES ('新竹市', 39, '2023-06-12 19:02:18.569484')\n",
            "INSERT INTO stocks VALUES ('嘉義市', 67, '2023-06-12 19:02:18.577882')\n",
            "INSERT INTO stocks VALUES ('新北市', 507, '2023-06-12 19:02:18.587053')\n",
            "INSERT INTO stocks VALUES ('桃園市', 271, '2023-06-12 19:02:18.596956')\n",
            "INSERT INTO stocks VALUES ('新竹縣', 48, '2023-06-12 19:02:18.610985')\n",
            "INSERT INTO stocks VALUES ('宜蘭縣', 76, '2023-06-12 19:02:18.621324')\n",
            "INSERT INTO stocks VALUES ('苗栗縣', 57, '2023-06-12 19:02:18.631345')\n",
            "INSERT INTO stocks VALUES ('彰化縣', 181, '2023-06-12 19:02:18.641479')\n",
            "INSERT INTO stocks VALUES ('南投縣', 67, '2023-06-12 19:02:18.651249')\n",
            "INSERT INTO stocks VALUES ('雲林縣', 131, '2023-06-12 19:02:18.660334')\n",
            "INSERT INTO stocks VALUES ('嘉義縣', 84, '2023-06-12 19:02:18.670860')\n",
            "INSERT INTO stocks VALUES ('屏東縣', 140, '2023-06-12 19:02:18.681664')\n",
            "INSERT INTO stocks VALUES ('澎湖縣', 11, '2023-06-12 19:02:18.689949')\n",
            "INSERT INTO stocks VALUES ('花蓮縣', 47, '2023-06-12 19:02:18.700554')\n",
            "INSERT INTO stocks VALUES ('臺東縣', 23, '2023-06-12 19:02:18.712274')\n",
            "INSERT INTO stocks VALUES ('金門縣', 6, '2023-06-12 19:02:18.724296')\n",
            "INSERT INTO stocks VALUES ('連江縣', 1, '2023-06-12 19:02:18.736632')\n"
          ]
        }
      ]
    },
    {
      "cell_type": "code",
      "source": [
        "# 查詢資料\n",
        "c.execute(\"SELECT * FROM pharmacies)\n",
        "print(c.fetchall())\n",
        "\n",
        "conn.commit()\n",
        "conn.close()"
      ],
      "metadata": {
        "colab": {
          "base_uri": "https://localhost:8080/"
        },
        "id": "dWbypCwS4QHH",
        "outputId": "26ad46d5-1196-4fb0-dad0-f9d86349b99f"
      },
      "execution_count": 24,
      "outputs": [
        {
          "output_type": "stream",
          "name": "stdout",
          "text": [
            "[('基隆市', '57', '2023-06-12 19:02:18.559114'), ('嘉義市', '67', '2023-06-12 19:02:18.577882'), ('新北市', '507', '2023-06-12 19:02:18.587053'), ('宜蘭縣', '76', '2023-06-12 19:02:18.621324'), ('苗栗縣', '57', '2023-06-12 19:02:18.631345'), ('南投縣', '67', '2023-06-12 19:02:18.651249'), ('嘉義縣', '84', '2023-06-12 19:02:18.670860'), ('金門縣', '6', '2023-06-12 19:02:18.724296')]\n"
          ]
        }
      ]
    },
    {
      "cell_type": "code",
      "source": [
        "import sqlite3\n",
        "import datetime\n",
        "\n",
        "conn = sqlite3.connect('example.db')\n",
        "c = conn.cursor()\n",
        "\n",
        "# 新增且清空資料表\n",
        "c.execute('''CREATE TABLE IF NOT EXISTS masks\n",
        "             (city text, counts text, createdAt datetime)''')\n",
        "c.execute('''DELETE FROM masks''')\n",
        "conn.commit()\n",
        "\n",
        "# 新增資料\n",
        "\n",
        "import requests\n",
        "import json\n",
        "url = \"https://raw.githubusercontent.com/kiang/pharmacies/master/json/points.json\"\n",
        "response = requests.get(url)\n",
        "d = response.text\n",
        "data = json.loads(d)\n",
        "\n",
        "mask_count={}\n",
        "\n",
        "for d in data['features']:\n",
        "    conunty = d['properties']['address'][0:3]\n",
        "    if conunty not in mask_count:\n",
        "        mask_count[conunty] = 0\n",
        "    mask_count[conunty] = mask_count[conunty] + d['properties']['mask_adult']\n",
        "\n",
        "for city,counts in mask_count.items():\n",
        "  t = datetime.datetime.now() \n",
        "  c.execute(f\"INSERT INTO masks VALUES ('{city}', {counts}, '{t}')\")\n",
        "  conn.commit()\n",
        "\n",
        "# 查詢資料\n",
        "c.execute(\"SELECT * FROM masks\")\n",
        "print(c.fetchall())\n",
        "\n",
        "# conn.commit()\n",
        "# conn.close()"
      ],
      "metadata": {
        "colab": {
          "base_uri": "https://localhost:8080/"
        },
        "id": "D0RNwd8h_Qez",
        "outputId": "59168b78-10b6-4164-ef6d-4c134788cd75"
      },
      "execution_count": 7,
      "outputs": [
        {
          "output_type": "stream",
          "name": "stdout",
          "text": [
            "[('臺北市', '323660', '2023-06-12 22:18:39.717735'), ('高雄市', '428940', '2023-06-12 22:18:39.736449'), ('臺中市', '556440', '2023-06-12 22:18:39.759302'), ('臺南市', '408400', '2023-06-12 22:18:39.779150'), ('基隆市', '80100', '2023-06-12 22:18:39.803359'), ('新竹市', '45630', '2023-06-12 22:18:39.821904'), ('嘉義市', '107840', '2023-06-12 22:18:39.838271'), ('新北市', '677660', '2023-06-12 22:18:39.859159'), ('桃園市', '345600', '2023-06-12 22:18:39.877154'), ('新竹縣', '53760', '2023-06-12 22:18:39.893692'), ('宜蘭縣', '106900', '2023-06-12 22:18:39.908382'), ('苗栗縣', '134180', '2023-06-12 22:18:39.923377'), ('彰化縣', '219400', '2023-06-12 22:18:39.939520'), ('南投縣', '91240', '2023-06-12 22:18:39.953619'), ('雲林縣', '199470', '2023-06-12 22:18:39.969596'), ('嘉義縣', '113180', '2023-06-12 22:18:39.983752'), ('屏東縣', '184250', '2023-06-12 22:18:39.996266'), ('澎湖縣', '12600', '2023-06-12 22:18:40.009066'), ('花蓮縣', '57330', '2023-06-12 22:18:40.022122'), ('臺東縣', '28510', '2023-06-12 22:18:40.034292'), ('金門縣', '15510', '2023-06-12 22:18:40.048591'), ('連江縣', '7930', '2023-06-12 22:18:40.061599')]\n"
          ]
        }
      ]
    },
    {
      "cell_type": "code",
      "source": [],
      "metadata": {
        "id": "Pq5S3VLx_AIk"
      },
      "execution_count": null,
      "outputs": []
    }
  ]
}